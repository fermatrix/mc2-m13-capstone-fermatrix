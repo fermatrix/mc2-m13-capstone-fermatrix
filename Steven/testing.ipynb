{
 "cells": [
  {
   "cell_type": "code",
   "execution_count": 2,
   "id": "adfe3c71",
   "metadata": {},
   "outputs": [],
   "source": [
    "import json\n",
    "import requests\n",
    "import pandas as pd"
   ]
  },
  {
   "cell_type": "code",
   "execution_count": 26,
   "id": "dca109cf",
   "metadata": {},
   "outputs": [
    {
     "name": "stdout",
     "output_type": "stream",
     "text": [
      "854\n"
     ]
    },
    {
     "name": "stderr",
     "output_type": "stream",
     "text": [
      "C:\\Users\\steve\\AppData\\Local\\Temp\\ipykernel_18680\\2500452349.py:21: FutureWarning: The frame.append method is deprecated and will be removed from pandas in a future version. Use pandas.concat instead.\n",
      "  dfParquet=dfParquet.append({\n"
     ]
    }
   ],
   "source": [
    "event_category = 'lit'\n",
    "event_year = 2010\n",
    "url = 'http://api.nobelprize.org/2.1/nobelPrize/{}/{}'\n",
    "\n",
    "\n",
    "\n",
    "resultApi = requests.get(url.format(event_category,event_year))\n",
    "\n",
    "resultApi=resultApi.json()\n",
    "resultDict=resultApi[0]\n",
    "prueba2=resultDict['laureates']\n",
    "\n",
    "dfParquet = pd.DataFrame(columns=['id','portion','awardYear','category','categoryFullName','dateAwarded','prizeAmount','prizeAmountAdjusted'] )\n",
    "\n",
    "for i in range(len(prueba2)):\n",
    "    laureateDict=prueba2[i]\n",
    "    categoryFullNameDict=resultDict['categoryFullName']\n",
    "    catogeryDict=resultDict['category']\n",
    "\n",
    "    print(laureateDict['id'])\n",
    "    dfParquet=dfParquet.append({\n",
    "\n",
    "        'id': laureateDict['id'],\n",
    "        'portion': laureateDict['portion'],\n",
    "        'awardYear': resultDict['awardYear'],\n",
    "        'category': catogeryDict['en'],\n",
    "        'categoryFullName': categoryFullNameDict['en'],\n",
    "        'dateAwarded': resultDict['dateAwarded'],\n",
    "        'prizeAmount': resultDict['prizeAmount'],\n",
    "        'prizeAmountAdjusted': resultDict['prizeAmountAdjusted']\n",
    "\n",
    "    }, ignore_index=True)\n",
    "\n",
    "dfParquet=dfParquet.set_index('id')\n",
    "\n",
    "# dt_info.to_parquet('extractNobel.parquet')\n",
    "# df = pd.read_parquet('extractNobel.parquet')\n",
    "# df.head()\n",
    "\n",
    "\n",
    "# event = 851\n",
    "\n",
    "# url = 'http://api.nobelprize.org/2.1/laureate/{}';\n",
    "\n",
    "\n",
    "# info_lau = requests.get(url.format(event_category, event_year));\n",
    "\n",
    "# info_lau = info_lau.json();\n",
    "\n",
    "# info_person = dict(info_lau[0]);\n",
    "# info_person\n",
    "# dt_info = pd.DataFrame(info_person, columns=['id','fullName','fileName','gender','birth']);\n",
    "\n",
    "# dt_info.head().set_index('id')\n",
    "\n",
    "# dt_info.to_parquet('laureate.parquet')\n",
    "# df = pd.read_parquet('laureate.parquet')"
   ]
  },
  {
   "cell_type": "code",
   "execution_count": null,
   "id": "99357474",
   "metadata": {},
   "outputs": [],
   "source": [
    "\n"
   ]
  }
 ],
 "metadata": {
  "kernelspec": {
   "display_name": "Python 3 (ipykernel)",
   "language": "python",
   "name": "python3"
  },
  "language_info": {
   "codemirror_mode": {
    "name": "ipython",
    "version": 3
   },
   "file_extension": ".py",
   "mimetype": "text/x-python",
   "name": "python",
   "nbconvert_exporter": "python",
   "pygments_lexer": "ipython3",
   "version": "3.10.4"
  }
 },
 "nbformat": 4,
 "nbformat_minor": 5
}
