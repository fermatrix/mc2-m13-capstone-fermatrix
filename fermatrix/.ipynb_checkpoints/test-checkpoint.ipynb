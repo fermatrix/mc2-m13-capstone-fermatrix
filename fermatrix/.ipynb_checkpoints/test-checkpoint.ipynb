{
 "cells": [
  {
   "cell_type": "code",
   "execution_count": 20,
   "metadata": {},
   "outputs": [],
   "source": [
    "import requests\n",
    "import pandas as pd\n",
    "import numpy as np\n",
    "from fractions import Fraction"
   ]
  },
  {
   "cell_type": "code",
   "execution_count": 21,
   "metadata": {},
   "outputs": [],
   "source": [
    "category = \"che\"\n",
    "year=\"2010\"\n",
    "endpoint = \"https://ttuth7tdt9.execute-api.eu-central-1.amazonaws.com/Test\"\n",
    "bucket=\"cidaen-nobel.s3.eu-central-1.amazonaws.com\""
   ]
  },
  {
   "cell_type": "code",
   "execution_count": 22,
   "metadata": {},
   "outputs": [
    {
     "name": "stdout",
     "output_type": "stream",
     "text": [
      "['851', '852', '853']\n"
     ]
    }
   ],
   "source": [
    "nobel = requests.get(f\"{endpoint}/nobel_prize/?category={category}&year={year}\")\n",
    "print(nobel.json())"
   ]
  },
  {
   "cell_type": "code",
   "execution_count": 23,
   "metadata": {},
   "outputs": [
    {
     "name": "stdout",
     "output_type": "stream",
     "text": [
      "{'id': {'0': '851'}, 'fullName': {'0': 'Richard F. Heck'}, 'fileName': {'0': 'heck'}, 'gender': {'0': 'male'}, 'birth': {'0': '1931-08-15'}}\n",
      "{'id': {'0': '852'}, 'fullName': {'0': 'Ei-ichi Negishi'}, 'fileName': {'0': 'negishi'}, 'gender': {'0': 'male'}, 'birth': {'0': '1935-07-14'}}\n",
      "{'id': {'0': '853'}, 'fullName': {'0': 'Akira Suzuki'}, 'fileName': {'0': 'suzuki'}, 'gender': {'0': 'male'}, 'birth': {'0': '1930-09-12'}}\n"
     ]
    }
   ],
   "source": [
    "for laureate_id in nobel.json():\n",
    "    laurate = requests.get(f\"{endpoint}/laureate/?id={laureate_id }\")\n",
    "    print(laurate.json())"
   ]
  },
  {
   "cell_type": "code",
   "execution_count": 29,
   "metadata": {},
   "outputs": [
    {
     "name": "stdout",
     "output_type": "stream",
     "text": [
      "<Response [200]>\n"
     ]
    }
   ],
   "source": [
    "bronze = requests.get(f\"{endpoint}/bronze/\")\n",
    "print(bronze)"
   ]
  },
  {
   "cell_type": "code",
   "execution_count": 30,
   "metadata": {},
   "outputs": [
    {
     "data": {
      "text/html": [
       "<div>\n",
       "<style scoped>\n",
       "    .dataframe tbody tr th:only-of-type {\n",
       "        vertical-align: middle;\n",
       "    }\n",
       "\n",
       "    .dataframe tbody tr th {\n",
       "        vertical-align: top;\n",
       "    }\n",
       "\n",
       "    .dataframe thead th {\n",
       "        text-align: right;\n",
       "    }\n",
       "</style>\n",
       "<table border=\"1\" class=\"dataframe\">\n",
       "  <thead>\n",
       "    <tr style=\"text-align: right;\">\n",
       "      <th></th>\n",
       "      <th>awardYear</th>\n",
       "      <th>category</th>\n",
       "      <th>categoryFullName</th>\n",
       "      <th>dateAwarded</th>\n",
       "      <th>prizeAmount</th>\n",
       "      <th>prizeAmountAdjusted</th>\n",
       "      <th>laureates_id</th>\n",
       "      <th>portion</th>\n",
       "      <th>id</th>\n",
       "      <th>fullName</th>\n",
       "      <th>file_name</th>\n",
       "      <th>gender</th>\n",
       "      <th>birth</th>\n",
       "    </tr>\n",
       "  </thead>\n",
       "  <tbody>\n",
       "    <tr>\n",
       "      <th>0</th>\n",
       "      <td>2010</td>\n",
       "      <td>Chemistry</td>\n",
       "      <td>The Nobel Prize in Chemistry</td>\n",
       "      <td>2010-10-06</td>\n",
       "      <td>10000000</td>\n",
       "      <td>11015580</td>\n",
       "      <td>851</td>\n",
       "      <td>1/3</td>\n",
       "      <td>851</td>\n",
       "      <td>Richard F. Heck</td>\n",
       "      <td>heck</td>\n",
       "      <td>male</td>\n",
       "      <td>1931-08-15</td>\n",
       "    </tr>\n",
       "    <tr>\n",
       "      <th>1</th>\n",
       "      <td>2010</td>\n",
       "      <td>Chemistry</td>\n",
       "      <td>The Nobel Prize in Chemistry</td>\n",
       "      <td>2010-10-06</td>\n",
       "      <td>10000000</td>\n",
       "      <td>11015580</td>\n",
       "      <td>851</td>\n",
       "      <td>1/3</td>\n",
       "      <td>851</td>\n",
       "      <td>Richard F. Heck</td>\n",
       "      <td>heck</td>\n",
       "      <td>male</td>\n",
       "      <td>1931-08-15</td>\n",
       "    </tr>\n",
       "  </tbody>\n",
       "</table>\n",
       "</div>"
      ],
      "text/plain": [
       "  awardYear   category              categoryFullName dateAwarded  prizeAmount  \\\n",
       "0      2010  Chemistry  The Nobel Prize in Chemistry  2010-10-06     10000000   \n",
       "1      2010  Chemistry  The Nobel Prize in Chemistry  2010-10-06     10000000   \n",
       "\n",
       "   prizeAmountAdjusted  laureates_id portion   id         fullName file_name  \\\n",
       "0             11015580           851     1/3  851  Richard F. Heck      heck   \n",
       "1             11015580           851     1/3  851  Richard F. Heck      heck   \n",
       "\n",
       "  gender       birth  \n",
       "0   male  1931-08-15  \n",
       "1   male  1931-08-15  "
      ]
     },
     "execution_count": 30,
     "metadata": {},
     "output_type": "execute_result"
    }
   ],
   "source": [
    "df_bronze_laureates=pd.read_parquet(f\"https://{bucket}/raw/bronze/bronze_laureates.parquet\")\n",
    "df_bronze_laureates.head(2)"
   ]
  },
  {
   "cell_type": "code",
   "execution_count": 35,
   "metadata": {},
   "outputs": [
    {
     "name": "stdout",
     "output_type": "stream",
     "text": [
      "<Response [200]>\n"
     ]
    }
   ],
   "source": [
    "silver = requests.get(f\"{endpoint}/silver/\")\n",
    "print(silver)"
   ]
  },
  {
   "cell_type": "code",
   "execution_count": 36,
   "metadata": {},
   "outputs": [
    {
     "data": {
      "text/html": [
       "<div>\n",
       "<style scoped>\n",
       "    .dataframe tbody tr th:only-of-type {\n",
       "        vertical-align: middle;\n",
       "    }\n",
       "\n",
       "    .dataframe tbody tr th {\n",
       "        vertical-align: top;\n",
       "    }\n",
       "\n",
       "    .dataframe thead th {\n",
       "        text-align: right;\n",
       "    }\n",
       "</style>\n",
       "<table border=\"1\" class=\"dataframe\">\n",
       "  <thead>\n",
       "    <tr style=\"text-align: right;\">\n",
       "      <th></th>\n",
       "      <th>year</th>\n",
       "      <th>category</th>\n",
       "      <th>category_full_name</th>\n",
       "      <th>date_awarded</th>\n",
       "      <th>prize_amount</th>\n",
       "      <th>prize_amount_adjusted</th>\n",
       "      <th>laureate_id</th>\n",
       "      <th>laureate_portion</th>\n",
       "      <th>id</th>\n",
       "      <th>full_name</th>\n",
       "      <th>file_name</th>\n",
       "      <th>gender</th>\n",
       "      <th>birth</th>\n",
       "      <th>prize_real_amount</th>\n",
       "    </tr>\n",
       "  </thead>\n",
       "  <tbody>\n",
       "    <tr>\n",
       "      <th>0</th>\n",
       "      <td>2010</td>\n",
       "      <td>Chemistry</td>\n",
       "      <td>The Nobel Prize in Chemistry</td>\n",
       "      <td>2010-10-06</td>\n",
       "      <td>10000000</td>\n",
       "      <td>11015580</td>\n",
       "      <td>851</td>\n",
       "      <td>0.333333</td>\n",
       "      <td>851</td>\n",
       "      <td>Richard F. Heck</td>\n",
       "      <td>heck</td>\n",
       "      <td>male</td>\n",
       "      <td>1931-08-15</td>\n",
       "      <td>3.333333e+06</td>\n",
       "    </tr>\n",
       "    <tr>\n",
       "      <th>1</th>\n",
       "      <td>2010</td>\n",
       "      <td>Chemistry</td>\n",
       "      <td>The Nobel Prize in Chemistry</td>\n",
       "      <td>2010-10-06</td>\n",
       "      <td>10000000</td>\n",
       "      <td>11015580</td>\n",
       "      <td>851</td>\n",
       "      <td>0.333333</td>\n",
       "      <td>851</td>\n",
       "      <td>Richard F. Heck</td>\n",
       "      <td>heck</td>\n",
       "      <td>male</td>\n",
       "      <td>1931-08-15</td>\n",
       "      <td>3.333333e+06</td>\n",
       "    </tr>\n",
       "  </tbody>\n",
       "</table>\n",
       "</div>"
      ],
      "text/plain": [
       "   year   category            category_full_name date_awarded  prize_amount  \\\n",
       "0  2010  Chemistry  The Nobel Prize in Chemistry   2010-10-06      10000000   \n",
       "1  2010  Chemistry  The Nobel Prize in Chemistry   2010-10-06      10000000   \n",
       "\n",
       "   prize_amount_adjusted  laureate_id  laureate_portion   id        full_name  \\\n",
       "0               11015580          851          0.333333  851  Richard F. Heck   \n",
       "1               11015580          851          0.333333  851  Richard F. Heck   \n",
       "\n",
       "  file_name gender       birth  prize_real_amount  \n",
       "0      heck   male  1931-08-15       3.333333e+06  \n",
       "1      heck   male  1931-08-15       3.333333e+06  "
      ]
     },
     "execution_count": 36,
     "metadata": {},
     "output_type": "execute_result"
    }
   ],
   "source": [
    "df_silver_laureates=pd.read_parquet(f\"https://{bucket}/raw/silver/silver_laureates.parquet\")\n",
    "df_silver_laureates.head(2)\n",
    "    "
   ]
  }
 ],
 "metadata": {
  "kernelspec": {
   "display_name": "Python 3",
   "language": "python",
   "name": "python3"
  },
  "language_info": {
   "codemirror_mode": {
    "name": "ipython",
    "version": 3
   },
   "file_extension": ".py",
   "mimetype": "text/x-python",
   "name": "python",
   "nbconvert_exporter": "python",
   "pygments_lexer": "ipython3",
   "version": "3.8.0"
  }
 },
 "nbformat": 4,
 "nbformat_minor": 4
}
